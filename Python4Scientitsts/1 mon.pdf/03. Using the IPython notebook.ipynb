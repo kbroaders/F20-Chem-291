{
 "cells": [
  {
   "cell_type": "markdown",
   "metadata": {},
   "source": [
    "# Using the IPython notebook"
   ]
  },
  {
   "cell_type": "markdown",
   "metadata": {},
   "source": [
    "The IPython *notebook* is a new feature that has been implemented into IPython, and allows you to write notebooks similar to e.g. Mathematica. The advantage of doing this is that you can include text, code, and plots in the same document. This makes it ideal for example to write up a report about a project that uses mostly Python code, in order to share with others. In fact, the notes for this course are written using the IPython notebook!"
   ]
  },
  {
   "cell_type": "markdown",
   "metadata": {},
   "source": [
    "## Starting up"
   ]
  },
  {
   "cell_type": "markdown",
   "metadata": {},
   "source": [
    "The normal way to start up the IPython notebook is:\n",
    "\n",
    "    ipython notebook\n",
    "    \n",
    "Once you do this, your web browser should open and go to a page showing a list of folders. You can now go to the ``py4sci`` directory that you created before."
   ]
  },
  {
   "cell_type": "markdown",
   "metadata": {},
   "source": [
    "## First steps"
   ]
  },
  {
   "cell_type": "markdown",
   "metadata": {},
   "source": [
    "Click on ``New Notebook`` on the right, which will start a new document. You can change the name of the document by clicking on the **Untitled** name at the top and entering a new name. Make sure you then save the document (make sure that you save regularly as you might lose content if you close the browser window!).\n",
    "\n",
    "At first glance, a notebook looks like a fairly typical application - it has a menubar (File, Edit, View, etc.) and a tool bar with icons. Below this, you will see an empty cell, in which you can type any Python code. You can write several lines of code, and once it is ready to run, you can press shift-enter and it will get executed:"
   ]
  },
  {
   "cell_type": "code",
   "execution_count": 1,
   "metadata": {
    "jupyter": {
     "outputs_hidden": false
    }
   },
   "outputs": [
    {
     "name": "stdout",
     "output_type": "stream",
     "text": [
      "1\n"
     ]
    }
   ],
   "source": [
    "a = 1\n",
    "print(a)"
   ]
  },
  {
   "cell_type": "markdown",
   "metadata": {},
   "source": [
    "You can then click on that cell, change the Python code, and press shift-enter again to re-execute the code. Once you have executed a cell once, a new cell will appear below. You can again enter some code, then press shift-enter to execute it."
   ]
  },
  {
   "cell_type": "markdown",
   "metadata": {},
   "source": [
    "## Plotting"
   ]
  },
  {
   "cell_type": "markdown",
   "metadata": {},
   "source": [
    "To make plots, enter any Matplotlib commands (see later lectures), and just press shift-enter - note that all commands for a plot should be entered in one cell, you cannot split it up over multiple cells:"
   ]
  },
  {
   "cell_type": "code",
   "execution_count": 2,
   "metadata": {
    "jupyter": {
     "outputs_hidden": false
    }
   },
   "outputs": [
    {
     "data": {
      "text/plain": [
       "Text(0, 0.5, 'y')"
      ]
     },
     "execution_count": 2,
     "metadata": {},
     "output_type": "execute_result"
    },
    {
     "data": {
      "image/png": "[encoded data removed]",
      "text/plain": [
       "<Figure size 432x288 with 1 Axes>"
      ]
     },
     "metadata": {
      "needs_background": "light"
     },
     "output_type": "display_data"
    }
   ],
   "source": [
    "%matplotlib inline\n",
    "import matplotlib.pyplot as plt\n",
    "plt.plot([1,2,3],[4,5,6])\n",
    "plt.xlabel(\"x\")\n",
    "plt.ylabel(\"y\")"
   ]
  },
  {
   "cell_type": "markdown",
   "metadata": {},
   "source": [
    "As before, you can always go back and edit the cell to re-make the plot. If you want to save it, make sure you include ``plt.savefig(filename)`` as the last command, where ``filename`` is the name of the plot, such as ``my_plot.png``."
   ]
  },
  {
   "cell_type": "markdown",
   "metadata": {},
   "source": [
    "## Text"
   ]
  },
  {
   "cell_type": "markdown",
   "metadata": {},
   "source": [
    "It is likely that you will want to enter actual text (non-code) in the notebook. To do this, click on a cell, and in the drop-down menu in the toolbar, select 'Markdown'. This is a specific type of syntax for writing text. You can just write text normally and press shift-enter to *render* it:\n",
    "\n",
    "    This is some plain text\n",
    "\n",
    "To edit it, double click on the cell. You can also enter section headings using the following syntax:\n",
    "\n",
    "    This is a title\n",
    "    ===============\n",
    "\n",
    "    This is a sub-title\n",
    "    -------------------\n",
    "\n",
    "which will look like:\n",
    "\n",
    "This is a title\n",
    "===============\n",
    "\n",
    "This is a sub-title\n",
    "-------------------\n",
    "\n",
    "Finally, if you are familiar with LaTeX, you can enter equations using:\n",
    "\n",
    "    $$E = m c^2$$\n",
    "\n",
    "on a separate line, or:\n",
    "\n",
    "    The equation $p=h/\\lambda$ is very important\n",
    "\n",
    "to include it in a sentence. This will look like:\n",
    "\n",
    "$$E = m c^2$$\n",
    "\n",
    "The equation $p=h/\\lambda$ is very important\n",
    "\n",
    "For more information about using LaTeX for equations, see [this guide](http://en.wikibooks.org/wiki/LaTeX/Mathematics)."
   ]
  },
  {
   "cell_type": "markdown",
   "metadata": {},
   "source": [
    "## Splitting/deleting/moving cells"
   ]
  },
  {
   "cell_type": "markdown",
   "metadata": {},
   "source": [
    "You can split, delete, and move cells by going to 'Edit' and selecting the appropriate command. Some of the commands are also available in the toolbar - put your mouse over the icon and wait for a second, and it will tell you what it does."
   ]
  },
  {
   "cell_type": "markdown",
   "metadata": {},
   "source": [
    "## Sharing your notebook"
   ]
  },
  {
   "cell_type": "markdown",
   "metadata": {},
   "source": [
    "Note: for now, the following section is a little manual, but the IPython developers are currently working on a much easier way to publish notebooks.\n",
    "\n",
    "Once you are happy with your notebook, you can share it with other people. The file containing your notebook is the ``.ipynb`` file that is in the directory in which you started the notebook and has the correct name. We need to get this file online, so one way to do with (which we will use here) is to open the ``.ipynb`` file in your normal code editor (you can do this while the notebook is open, but don't make any changes to the file!), then select all, and copy. Then, go to [http://gist.github.com](http://gist.github.com) and paste the content, then click 'Create Public Gist'.\n",
    "\n",
    "In the address bar, copy the 'id' of the gist, which will look something like ``5794970`` or ``bc960df2fc71675fc85a``. Then, go to [http://nbviewer.ipython.org/](http://nbviewer.ipython.org/) and enter the number in the form, and click 'Go!' - your notebook should now be visible, and you can send the address to others to share your notebook."
   ]
  },
  {
   "cell_type": "markdown",
   "metadata": {},
   "source": [
    "## Important notes"
   ]
  },
  {
   "cell_type": "markdown",
   "metadata": {},
   "source": [
    "A few important notes about using the notebook:\n",
    "\n",
    "* Save often! There is an auto-save in the notebook, but better to also save explicitly from time to time.\n",
    "\n",
    "* Code *can* be executed in an order different from top to bottom, but note that if you do this variables will not be reset. So for example if you type:"
   ]
  },
  {
   "cell_type": "code",
   "execution_count": 3,
   "metadata": {
    "jupyter": {
     "outputs_hidden": false
    }
   },
   "outputs": [],
   "source": [
    "a = 1"
   ]
  },
  {
   "cell_type": "markdown",
   "metadata": {},
   "source": [
    "then go higher up and type:"
   ]
  },
  {
   "cell_type": "code",
   "execution_count": 4,
   "metadata": {
    "jupyter": {
     "outputs_hidden": false
    }
   },
   "outputs": [],
   "source": [
    "print(a)"
   ]
  },
  {
   "cell_type": "markdown",
   "metadata": {},
   "source": [
    "it will give the value you previously set. To make sure that your code works from top to bottom, go to the 'Cell' menu item and go to **All Output** -> **Clear** then in the **Cell** menu, select **Run All**.\n",
    "\n",
    "In addition, even if you remove a cell, then variables set in that cell still exist unless you restart the notebook. If you want to restart a notebook, you can select **Kernel** -> **Restart**. This removes any variables from memory, and you have to start running the notebook from the start."
   ]
  }
 ],
 "metadata": {
  "kernelspec": {
   "display_name": "Python 3",
   "language": "python",
   "name": "python3"
  },
  "language_info": {
   "codemirror_mode": {
    "name": "ipython",
    "version": 3
   },
   "file_extension": ".py",
   "mimetype": "text/x-python",
   "name": "python",
   "nbconvert_exporter": "python",
   "pygments_lexer": "ipython3",
   "version": "3.7.6"
  }
 },
 "nbformat": 4,
 "nbformat_minor": 4
}
